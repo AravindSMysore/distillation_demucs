{
 "cells": [
  {
   "cell_type": "code",
   "execution_count": 1,
   "metadata": {},
   "outputs": [],
   "source": [
    "from demucs import pretrained\n",
    "import torch\n",
    "from demucs.demucs import Demucs\n",
    "from demucs.hdemucs import HDemucs\n",
    "from demucs.apply import tensor_chunk\n",
    "from demucs.htdemucs import HTDemucs\n",
    "from demucs.utils import center_trim\n",
    "from demucs.apply import TensorChunk\n",
    "from demucs.audio import AudioFile, convert_audio, save_audio\n",
    "from pathlib import Path\n",
    "from tqdm import tqdm\n",
    "import matplotlib.pyplot as plt\n",
    "import time\n",
    "import scipy\n",
    "from scipy.signal import resample, butter, filtfilt, cheby1\n",
    "import os\n",
    "import numpy as np\n",
    "import torch\n",
    "from fvcore.nn import FlopCountAnalysis\n",
    "import warnings\n",
    "import sys\n",
    "import io"
   ]
  },
  {
   "cell_type": "code",
   "execution_count": 2,
   "metadata": {},
   "outputs": [],
   "source": [
    "long_files_path = \"Al James - Schoolboy Facination\""
   ]
  },
  {
   "cell_type": "code",
   "execution_count": 5,
   "metadata": {},
   "outputs": [
    {
     "name": "stdout",
     "output_type": "stream",
     "text": [
      "Exporting audio type bass\n"
     ]
    },
    {
     "name": "stderr",
     "output_type": "stream",
     "text": [
      "100%|██████████| 20/20 [00:01<00:00, 12.23it/s]\n"
     ]
    },
    {
     "name": "stdout",
     "output_type": "stream",
     "text": [
      "Exporting audio type drums\n"
     ]
    },
    {
     "name": "stderr",
     "output_type": "stream",
     "text": [
      "100%|██████████| 20/20 [00:02<00:00,  9.86it/s]\n"
     ]
    },
    {
     "name": "stdout",
     "output_type": "stream",
     "text": [
      "Exporting audio type mixture\n"
     ]
    },
    {
     "name": "stderr",
     "output_type": "stream",
     "text": [
      "100%|██████████| 20/20 [00:02<00:00,  9.26it/s]\n"
     ]
    },
    {
     "name": "stdout",
     "output_type": "stream",
     "text": [
      "Exporting audio type other\n"
     ]
    },
    {
     "name": "stderr",
     "output_type": "stream",
     "text": [
      "100%|██████████| 20/20 [00:02<00:00,  9.61it/s]\n"
     ]
    },
    {
     "name": "stdout",
     "output_type": "stream",
     "text": [
      "Exporting audio type vocals\n"
     ]
    },
    {
     "name": "stderr",
     "output_type": "stream",
     "text": [
      "100%|██████████| 20/20 [00:02<00:00,  9.63it/s]\n"
     ]
    }
   ],
   "source": [
    "from pydub import AudioSegment\n",
    "import math\n",
    "\n",
    "audio_types = [\"bass\", \"drums\", \"mixture\", \"other\", \"vocals\"]\n",
    "# Load the audio file (ensure the path is correct)\n",
    "for audio_type in audio_types:\n",
    "    audio_file = os.path.join(long_files_path, f\"{audio_type}.wav\")\n",
    "    audio = AudioSegment.from_file(audio_file)\n",
    "\n",
    "    # Set the duration of each clip (5 seconds)\n",
    "    clip_duration_ms = 5000  # 5 seconds in milliseconds\n",
    "\n",
    "    # Get the total duration of the audio in milliseconds\n",
    "    total_duration_ms = len(audio)\n",
    "\n",
    "    # Calculate how many clips of 5 seconds can be extracted\n",
    "    num_clips = math.ceil(total_duration_ms / clip_duration_ms)\n",
    "\n",
    "    # Split and export each clip\n",
    "    print(\"Exporting audio type\", audio_type)\n",
    "    for i in tqdm(range(20)):\n",
    "        folder_name = f\"Clip_{i+1}\"\n",
    "        os.makedirs(folder_name, exist_ok=True)\n",
    "        start_time = i * clip_duration_ms\n",
    "        end_time = start_time + clip_duration_ms\n",
    "\n",
    "        # Ensure the end time doesn't exceed the audio length\n",
    "        clip = audio[start_time:end_time]\n",
    "\n",
    "        # Export the clip as a new file (e.g., clip_0.mp3, clip_1.mp3, ...)\n",
    "        output_file_path = os.path.join(folder_name, f\"{audio_type}.mp3\")\n",
    "        clip.export(output_file_path, format=\"mp3\")"
   ]
  },
  {
   "cell_type": "code",
   "execution_count": null,
   "metadata": {},
   "outputs": [],
   "source": []
  }
 ],
 "metadata": {
  "kernelspec": {
   "display_name": "odml-demucs",
   "language": "python",
   "name": "python3"
  },
  "language_info": {
   "codemirror_mode": {
    "name": "ipython",
    "version": 3
   },
   "file_extension": ".py",
   "mimetype": "text/x-python",
   "name": "python",
   "nbconvert_exporter": "python",
   "pygments_lexer": "ipython3",
   "version": "3.8.20"
  }
 },
 "nbformat": 4,
 "nbformat_minor": 2
}
